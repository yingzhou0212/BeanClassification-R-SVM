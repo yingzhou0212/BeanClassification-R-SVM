{
 "cells": [
  {
   "cell_type": "markdown",
   "metadata": {},
   "source": [
    "### Name:Ying Zhou"
   ]
  },
  {
   "cell_type": "markdown",
   "metadata": {},
   "source": [
    "### Question 2A\n",
    "I extracted solar_data.tar.gz, which contains 10 .txt files from 2014 to 2023. Each file starts with metadata, followed by daily solar data in table format. I checked all 10 files and confirmed they have the same structure: date, radio flux, sunspot data, solar field, X-ray flares (C/M/X), and optical flares (S, 1, 2, 3). Fields are whitespace-separated and consistent across files.\n"
   ]
  },
  {
   "cell_type": "code",
   "execution_count": 23,
   "metadata": {
    "scrolled": true
   },
   "outputs": [
    {
     "name": "stdout",
     "output_type": "stream",
     "text": [
      "\n",
      " Examining file: 2014_DSD.txt\n",
      "2014 01 01  160    106      610      1    -999   C1.1   3  1  0  7  0  1  0\n",
      "2014 01 02  161    133     1410      1    -999   C1.5   6  2  0  5  1  0  0\n",
      "2014 01 03  182    162     1570      0    -999   C1.2   9  2  0 14  0  0  0\n",
      "2014 01 04  215    178     1710      1    -999   C1.7   4  3  0 10  0  1  0\n",
      "\n",
      " Examining file: 2015_DSD.txt\n",
      "2015 01 01  138    101      870      1    -999   B4.9   3  0  0  9  0  0  0\n",
      "2015 01 02  146    113     1250      1    -999   B4.9   3  0  0  9  0  0  0\n",
      "2015 01 03  149    122     1300      0    -999   B5.7  10  1  0 13  1  0  0\n",
      "2015 01 04  150    124     1220      0    -999   B6.7   5  1  0 13  0  1  0\n",
      "\n",
      " Examining file: 2016_DSD.txt\n",
      "2016 01 01   98     40      140      2    -999   B3.4   3  1  0  2  0  0  0\n",
      "2016 01 02  100     52      140      1    -999   B5.8   0  0  0  1  0  0  0\n",
      "2016 01 03  102     50      170      0    -999   B3.1   0  0  0  1  0  0  0\n",
      "2016 01 04   95     60      160      0    -999   B2.2   0  0  0  0  0  0  0\n",
      "\n",
      " Examining file: 2017_DSD.txt\n",
      "2017 01 01   73      0        0      1    -999   A5.7   0  0  0  0  0  0  0\n",
      "2017 01 02   73      0        0      0    -999   A5.7   0  0  0  0  0  0  0\n",
      "2017 01 03   73     11        0      1    -999   A5.5   0  0  0  0  0  0  0\n",
      "2017 01 04   72      0        0      0    -999   A5.4   0  0  0  0  0  0  0\n",
      "\n",
      " Examining file: 2018_DSD.txt\n",
      "2018 01 01   69      0        0      0    -999   A3.5   0  0  0  0  0  0  0\n",
      "2018 01 02   70      0        0      0    -999   A3.2   0  0  0  0  0  0  0\n",
      "2018 01 03   71      0        0      0    -999   A3.1   0  0  0  0  0  0  0\n",
      "2018 01 04   70     13       20      1    -999   A3.1   0  0  0  0  0  0  0\n",
      "\n",
      " Examining file: 2019_DSD.txt\n",
      "2019 01 01   72     13       10      1    -999   A1.0   0  0  0  0  0  0  0\n",
      "2019 01 02   75     16       30      0    -999   A1.9   0  0  0  1  0  0  0\n",
      "2019 01 03   73     16       90      0    -999   A2.3   0  0  0  0  0  0  0\n",
      "2019 01 04   72     13       50      0    -999   A1.5   0  0  0  0  0  0  0\n",
      "\n",
      " Examining file: 2020_DSD.txt\n",
      "2020 01 01   72      0        0      0    -999   A8.0   0  0  0  0  0  0  0\n",
      "2020 01 02   72     13       20      1    -999   A8.3   0  0  0  0  0  0  0\n",
      "2020 01 03   71     13       20      0    -999   A8.6   0  0  0  0  0  0  0\n",
      "2020 01 04   72     11       10      0    -999   A8.5   0  0  0  0  0  0  0\n",
      "\n",
      " Examining file: 2021_DSD.txt\n",
      "2021 01 01   80     23      190      0    -999      *   0  0  0  0  0  0  0\n",
      "2021 01 02   82     22      120      0    -999      *   0  0  0  0  0  0  0\n",
      "2021 01 03   80      0        0      0    -999      *   0  0  0  0  0  0  0\n",
      "2021 01 04   78      0        0      0    -999      *   0  0  0  0  0  0  0\n",
      "\n",
      " Examining file: 2022_DSD.txt\n",
      "2022 01 01   94     52      440      1    -999      *   1  1  0  1  0  0  0\n",
      "2022 01 02   89     25      340      0    -999      *   1  0  0  0  0  0  0\n",
      "2022 01 03   84     12      140      0    -999      *   0  0  0  0  0  0  0\n",
      "2022 01 04   86     12       30      1    -999      *   0  0  0  0  0  0  0\n",
      "\n",
      " Examining file: 2023_DSD.txt\n",
      "2023 01 01  153     94     1220      1    -999      *   9  0  0 12  0  0  0\n",
      "2023 01 02  146     94     1100      0    -999      *   9  0  0  7  1  0  0\n",
      "2023 01 03  149     89      930      0    -999      *   5  0  0  1  0  0  0\n",
      "2023 01 04  151     86      550      0    -999      *   3  0  0  4  0  1  0\n"
     ]
    }
   ],
   "source": [
    "import os\n",
    "import tarfile\n",
    "\n",
    "!cp /public/bmort/python/solar_data.tar.gz .\n",
    "with tarfile.open(\"solar_data.tar.gz\", \"r:gz\") as tar:\n",
    "    tar.extractall(\"solar_data\")\n",
    "\n",
    "data_path = \"solar_data/solar_data\"\n",
    "txt_files = sorted([f for f in os.listdir(data_path) if f.endswith('.txt')])\n",
    "\n",
    "for fname in txt_files:\n",
    "    print(f\"\\n Examining file: {fname}\")\n",
    "    file_path = os.path.join(data_path, fname)\n",
    "    with open(file_path, 'r') as f:\n",
    "        line_count = 0\n",
    "        for line in f:\n",
    "            if not line.startswith('#') and not line.startswith(':') and line.strip():\n",
    "                print(line.strip())\n",
    "                line_count += 1\n",
    "            if line_count >= 4:  # Only show 4 data lines per file\n",
    "                break\n"
   ]
  },
  {
   "cell_type": "markdown",
   "metadata": {},
   "source": [
    "### Question 2B\n"
   ]
  },
  {
   "cell_type": "code",
   "execution_count": 24,
   "metadata": {
    "scrolled": false
   },
   "outputs": [
    {
     "data": {
      "text/html": [
       "<div>\n",
       "<style scoped>\n",
       "    .dataframe tbody tr th:only-of-type {\n",
       "        vertical-align: middle;\n",
       "    }\n",
       "\n",
       "    .dataframe tbody tr th {\n",
       "        vertical-align: top;\n",
       "    }\n",
       "\n",
       "    .dataframe thead th {\n",
       "        text-align: right;\n",
       "    }\n",
       "</style>\n",
       "<table border=\"1\" class=\"dataframe\">\n",
       "  <thead>\n",
       "    <tr style=\"text-align: right;\">\n",
       "      <th></th>\n",
       "      <th>RadioFlux</th>\n",
       "      <th>SunspotNumber</th>\n",
       "      <th>SunspotArea</th>\n",
       "      <th>NewRegions</th>\n",
       "      <th>SolarMeanField</th>\n",
       "      <th>XrayBkgd</th>\n",
       "      <th>Xray_C</th>\n",
       "      <th>Xray_M</th>\n",
       "      <th>Xray_X</th>\n",
       "      <th>Optical_S</th>\n",
       "      <th>Optical_1</th>\n",
       "      <th>Optical_2</th>\n",
       "      <th>Optical_3</th>\n",
       "      <th>Date</th>\n",
       "    </tr>\n",
       "  </thead>\n",
       "  <tbody>\n",
       "    <tr>\n",
       "      <th>0</th>\n",
       "      <td>160</td>\n",
       "      <td>106</td>\n",
       "      <td>610</td>\n",
       "      <td>1</td>\n",
       "      <td>-999</td>\n",
       "      <td>C1.1</td>\n",
       "      <td>3</td>\n",
       "      <td>1</td>\n",
       "      <td>0</td>\n",
       "      <td>7</td>\n",
       "      <td>0</td>\n",
       "      <td>1</td>\n",
       "      <td>0</td>\n",
       "      <td>2014-01-01</td>\n",
       "    </tr>\n",
       "    <tr>\n",
       "      <th>1</th>\n",
       "      <td>161</td>\n",
       "      <td>133</td>\n",
       "      <td>1410</td>\n",
       "      <td>1</td>\n",
       "      <td>-999</td>\n",
       "      <td>C1.5</td>\n",
       "      <td>6</td>\n",
       "      <td>2</td>\n",
       "      <td>0</td>\n",
       "      <td>5</td>\n",
       "      <td>1</td>\n",
       "      <td>0</td>\n",
       "      <td>0</td>\n",
       "      <td>2014-01-02</td>\n",
       "    </tr>\n",
       "    <tr>\n",
       "      <th>2</th>\n",
       "      <td>182</td>\n",
       "      <td>162</td>\n",
       "      <td>1570</td>\n",
       "      <td>0</td>\n",
       "      <td>-999</td>\n",
       "      <td>C1.2</td>\n",
       "      <td>9</td>\n",
       "      <td>2</td>\n",
       "      <td>0</td>\n",
       "      <td>14</td>\n",
       "      <td>0</td>\n",
       "      <td>0</td>\n",
       "      <td>0</td>\n",
       "      <td>2014-01-03</td>\n",
       "    </tr>\n",
       "    <tr>\n",
       "      <th>3</th>\n",
       "      <td>215</td>\n",
       "      <td>178</td>\n",
       "      <td>1710</td>\n",
       "      <td>1</td>\n",
       "      <td>-999</td>\n",
       "      <td>C1.7</td>\n",
       "      <td>4</td>\n",
       "      <td>3</td>\n",
       "      <td>0</td>\n",
       "      <td>10</td>\n",
       "      <td>0</td>\n",
       "      <td>1</td>\n",
       "      <td>0</td>\n",
       "      <td>2014-01-04</td>\n",
       "    </tr>\n",
       "    <tr>\n",
       "      <th>4</th>\n",
       "      <td>218</td>\n",
       "      <td>225</td>\n",
       "      <td>1790</td>\n",
       "      <td>0</td>\n",
       "      <td>-999</td>\n",
       "      <td>C1.8</td>\n",
       "      <td>3</td>\n",
       "      <td>0</td>\n",
       "      <td>0</td>\n",
       "      <td>14</td>\n",
       "      <td>0</td>\n",
       "      <td>0</td>\n",
       "      <td>0</td>\n",
       "      <td>2014-01-05</td>\n",
       "    </tr>\n",
       "  </tbody>\n",
       "</table>\n",
       "</div>"
      ],
      "text/plain": [
       "   RadioFlux  SunspotNumber  SunspotArea  NewRegions  SolarMeanField XrayBkgd  \\\n",
       "0        160            106          610           1            -999     C1.1   \n",
       "1        161            133         1410           1            -999     C1.5   \n",
       "2        182            162         1570           0            -999     C1.2   \n",
       "3        215            178         1710           1            -999     C1.7   \n",
       "4        218            225         1790           0            -999     C1.8   \n",
       "\n",
       "   Xray_C  Xray_M  Xray_X  Optical_S  Optical_1  Optical_2  Optical_3  \\\n",
       "0       3       1       0          7          0          1          0   \n",
       "1       6       2       0          5          1          0          0   \n",
       "2       9       2       0         14          0          0          0   \n",
       "3       4       3       0         10          0          1          0   \n",
       "4       3       0       0         14          0          0          0   \n",
       "\n",
       "         Date  \n",
       "0  2014-01-01  \n",
       "1  2014-01-02  \n",
       "2  2014-01-03  \n",
       "3  2014-01-04  \n",
       "4  2014-01-05  "
      ]
     },
     "execution_count": 24,
     "metadata": {},
     "output_type": "execute_result"
    }
   ],
   "source": [
    "import pandas as pd\n",
    "import glob\n",
    "\n",
    "data_files = sorted(glob.glob('./solar_data/solar_data/*.txt'))\n",
    "\n",
    "col_names = [\n",
    "    'Date', 'RadioFlux', 'SunspotNumber', 'SunspotArea', 'NewRegions',\n",
    "    'SolarMeanField', 'XrayBkgd', 'Xray_C', 'Xray_M', 'Xray_X',\n",
    "    'Optical_S', 'Optical_1', 'Optical_2', 'Optical_3'\n",
    "]\n",
    "\n",
    "df_list = []\n",
    "\n",
    "for f in data_files:\n",
    "    try:\n",
    "        df = pd.read_csv(\n",
    "            f,\n",
    "            delim_whitespace=True,\n",
    "            skiprows=13,\n",
    "            comment='#',\n",
    "            header=None  \n",
    "        )\n",
    "\n",
    "        year = df[0].astype(str)\n",
    "        month = df[1].astype(str).str.zfill(2)\n",
    "        day = df[2].astype(str).str.zfill(2)\n",
    "        date_str = year + '-' + month + '-' + day\n",
    "\n",
    "        df['Date'] = date_str\n",
    "\n",
    "        df.columns = ['Year', 'Month', 'Day', 'RadioFlux', 'SunspotNumber', 'SunspotArea', 'NewRegions',\n",
    "                      'SolarMeanField', 'XrayBkgd', 'Xray_C', 'Xray_M', 'Xray_X',\n",
    "                      'Optical_S', 'Optical_1', 'Optical_2', 'Optical_3', 'Date']\n",
    "\n",
    "        df = df.drop(columns=['Year', 'Month', 'Day'])\n",
    "\n",
    "        df_list.append(df)\n",
    "\n",
    "    except Exception as e:\n",
    "        print(f\"Failed to load {f}: {e}\")\n",
    "\n",
    "df_all = pd.concat(df_list, ignore_index=True)\n",
    "df_all.head()\n"
   ]
  },
  {
   "cell_type": "code",
   "execution_count": 25,
   "metadata": {},
   "outputs": [
    {
     "data": {
      "text/html": [
       "<div>\n",
       "<style scoped>\n",
       "    .dataframe tbody tr th:only-of-type {\n",
       "        vertical-align: middle;\n",
       "    }\n",
       "\n",
       "    .dataframe tbody tr th {\n",
       "        vertical-align: top;\n",
       "    }\n",
       "\n",
       "    .dataframe thead th {\n",
       "        text-align: right;\n",
       "    }\n",
       "</style>\n",
       "<table border=\"1\" class=\"dataframe\">\n",
       "  <thead>\n",
       "    <tr style=\"text-align: right;\">\n",
       "      <th></th>\n",
       "      <th>RadioFlux</th>\n",
       "      <th>SunspotNumber</th>\n",
       "      <th>SunspotArea</th>\n",
       "      <th>NewRegions</th>\n",
       "      <th>SolarMeanField</th>\n",
       "      <th>Xray_C</th>\n",
       "      <th>Xray_M</th>\n",
       "      <th>Xray_X</th>\n",
       "      <th>Optical_S</th>\n",
       "      <th>Optical_1</th>\n",
       "      <th>Optical_2</th>\n",
       "      <th>Optical_3</th>\n",
       "    </tr>\n",
       "  </thead>\n",
       "  <tbody>\n",
       "    <tr>\n",
       "      <th>count</th>\n",
       "      <td>3650.000000</td>\n",
       "      <td>3650.000000</td>\n",
       "      <td>3650.000000</td>\n",
       "      <td>3650.000000</td>\n",
       "      <td>0.0</td>\n",
       "      <td>3650.000000</td>\n",
       "      <td>3650.000000</td>\n",
       "      <td>3650.000000</td>\n",
       "      <td>3650.000000</td>\n",
       "      <td>3650.000000</td>\n",
       "      <td>3650.000000</td>\n",
       "      <td>3650.000000</td>\n",
       "    </tr>\n",
       "    <tr>\n",
       "      <th>mean</th>\n",
       "      <td>100.773699</td>\n",
       "      <td>49.189863</td>\n",
       "      <td>344.112877</td>\n",
       "      <td>0.433973</td>\n",
       "      <td>NaN</td>\n",
       "      <td>2.498904</td>\n",
       "      <td>0.261096</td>\n",
       "      <td>0.011781</td>\n",
       "      <td>3.291507</td>\n",
       "      <td>0.210959</td>\n",
       "      <td>0.034247</td>\n",
       "      <td>0.003836</td>\n",
       "    </tr>\n",
       "    <tr>\n",
       "      <th>std</th>\n",
       "      <td>35.477323</td>\n",
       "      <td>51.333475</td>\n",
       "      <td>449.820622</td>\n",
       "      <td>0.735244</td>\n",
       "      <td>NaN</td>\n",
       "      <td>3.902361</td>\n",
       "      <td>0.854465</td>\n",
       "      <td>0.112878</td>\n",
       "      <td>5.588125</td>\n",
       "      <td>0.629407</td>\n",
       "      <td>0.194976</td>\n",
       "      <td>0.061822</td>\n",
       "    </tr>\n",
       "    <tr>\n",
       "      <th>min</th>\n",
       "      <td>-1.000000</td>\n",
       "      <td>0.000000</td>\n",
       "      <td>0.000000</td>\n",
       "      <td>0.000000</td>\n",
       "      <td>NaN</td>\n",
       "      <td>0.000000</td>\n",
       "      <td>0.000000</td>\n",
       "      <td>0.000000</td>\n",
       "      <td>0.000000</td>\n",
       "      <td>0.000000</td>\n",
       "      <td>0.000000</td>\n",
       "      <td>0.000000</td>\n",
       "    </tr>\n",
       "    <tr>\n",
       "      <th>25%</th>\n",
       "      <td>71.000000</td>\n",
       "      <td>0.000000</td>\n",
       "      <td>0.000000</td>\n",
       "      <td>0.000000</td>\n",
       "      <td>NaN</td>\n",
       "      <td>0.000000</td>\n",
       "      <td>0.000000</td>\n",
       "      <td>0.000000</td>\n",
       "      <td>0.000000</td>\n",
       "      <td>0.000000</td>\n",
       "      <td>0.000000</td>\n",
       "      <td>0.000000</td>\n",
       "    </tr>\n",
       "    <tr>\n",
       "      <th>50%</th>\n",
       "      <td>85.000000</td>\n",
       "      <td>31.000000</td>\n",
       "      <td>160.000000</td>\n",
       "      <td>0.000000</td>\n",
       "      <td>NaN</td>\n",
       "      <td>0.000000</td>\n",
       "      <td>0.000000</td>\n",
       "      <td>0.000000</td>\n",
       "      <td>0.000000</td>\n",
       "      <td>0.000000</td>\n",
       "      <td>0.000000</td>\n",
       "      <td>0.000000</td>\n",
       "    </tr>\n",
       "    <tr>\n",
       "      <th>75%</th>\n",
       "      <td>126.000000</td>\n",
       "      <td>81.000000</td>\n",
       "      <td>540.000000</td>\n",
       "      <td>1.000000</td>\n",
       "      <td>NaN</td>\n",
       "      <td>4.000000</td>\n",
       "      <td>0.000000</td>\n",
       "      <td>0.000000</td>\n",
       "      <td>4.000000</td>\n",
       "      <td>0.000000</td>\n",
       "      <td>0.000000</td>\n",
       "      <td>0.000000</td>\n",
       "    </tr>\n",
       "    <tr>\n",
       "      <th>max</th>\n",
       "      <td>343.000000</td>\n",
       "      <td>296.000000</td>\n",
       "      <td>3120.000000</td>\n",
       "      <td>6.000000</td>\n",
       "      <td>NaN</td>\n",
       "      <td>30.000000</td>\n",
       "      <td>11.000000</td>\n",
       "      <td>2.000000</td>\n",
       "      <td>55.000000</td>\n",
       "      <td>7.000000</td>\n",
       "      <td>2.000000</td>\n",
       "      <td>1.000000</td>\n",
       "    </tr>\n",
       "  </tbody>\n",
       "</table>\n",
       "</div>"
      ],
      "text/plain": [
       "         RadioFlux  SunspotNumber  SunspotArea   NewRegions  SolarMeanField  \\\n",
       "count  3650.000000    3650.000000  3650.000000  3650.000000             0.0   \n",
       "mean    100.773699      49.189863   344.112877     0.433973             NaN   \n",
       "std      35.477323      51.333475   449.820622     0.735244             NaN   \n",
       "min      -1.000000       0.000000     0.000000     0.000000             NaN   \n",
       "25%      71.000000       0.000000     0.000000     0.000000             NaN   \n",
       "50%      85.000000      31.000000   160.000000     0.000000             NaN   \n",
       "75%     126.000000      81.000000   540.000000     1.000000             NaN   \n",
       "max     343.000000     296.000000  3120.000000     6.000000             NaN   \n",
       "\n",
       "            Xray_C       Xray_M       Xray_X    Optical_S    Optical_1  \\\n",
       "count  3650.000000  3650.000000  3650.000000  3650.000000  3650.000000   \n",
       "mean      2.498904     0.261096     0.011781     3.291507     0.210959   \n",
       "std       3.902361     0.854465     0.112878     5.588125     0.629407   \n",
       "min       0.000000     0.000000     0.000000     0.000000     0.000000   \n",
       "25%       0.000000     0.000000     0.000000     0.000000     0.000000   \n",
       "50%       0.000000     0.000000     0.000000     0.000000     0.000000   \n",
       "75%       4.000000     0.000000     0.000000     4.000000     0.000000   \n",
       "max      30.000000    11.000000     2.000000    55.000000     7.000000   \n",
       "\n",
       "         Optical_2    Optical_3  \n",
       "count  3650.000000  3650.000000  \n",
       "mean      0.034247     0.003836  \n",
       "std       0.194976     0.061822  \n",
       "min       0.000000     0.000000  \n",
       "25%       0.000000     0.000000  \n",
       "50%       0.000000     0.000000  \n",
       "75%       0.000000     0.000000  \n",
       "max       2.000000     1.000000  "
      ]
     },
     "metadata": {},
     "output_type": "display_data"
    }
   ],
   "source": [
    "import numpy as np\n",
    "\n",
    "numeric_cols = df_all.columns.drop(['Date', 'XrayBkgd']).tolist()\n",
    "\n",
    "df_all[numeric_cols] = df_all[numeric_cols].astype(float)\n",
    "\n",
    "df_all[numeric_cols] = df_all[numeric_cols].replace(-999, np.nan)\n",
    "\n",
    "summary = df_all[numeric_cols].describe()\n",
    "display(summary)\n"
   ]
  },
  {
   "cell_type": "markdown",
   "metadata": {},
   "source": [
    "### Question 2B Summary\n",
    "\n",
    "Loaded all yearly solar data into a single Pandas DataFrame.\n",
    "\n",
    "Data cleaning actions:\n",
    "- Combined ”Year, Month, Day“ into a single Date column.\n",
    "- Replaced -999 with NaN to handle missing values.\n",
    "- Converted numeric columns to ”float“ type, excluding non-numeric ones like ”XrayBkgd“.\n",
    "\n",
    "Summary statistics:\n",
    "- The numerical columns have different magnitudes and ranges.\n",
    "- For example, ”SunspotArea“ ranges up to 3120, while “Xray_M”, “Optical_2”, etc., have mostly zeros and small values.\n",
    "- This shows the variables are not on the same scale.\n",
    "- Some columns show potential outliers, especially those with large max values far above the 75th percentile."
   ]
  },
  {
   "cell_type": "markdown",
   "metadata": {},
   "source": [
    "### Question2C"
   ]
  },
  {
   "cell_type": "code",
   "execution_count": 26,
   "metadata": {
    "scrolled": true
   },
   "outputs": [
    {
     "data": {
      "text/html": [
       "<div>\n",
       "<style scoped>\n",
       "    .dataframe tbody tr th:only-of-type {\n",
       "        vertical-align: middle;\n",
       "    }\n",
       "\n",
       "    .dataframe tbody tr th {\n",
       "        vertical-align: top;\n",
       "    }\n",
       "\n",
       "    .dataframe thead th {\n",
       "        text-align: right;\n",
       "    }\n",
       "</style>\n",
       "<table border=\"1\" class=\"dataframe\">\n",
       "  <thead>\n",
       "    <tr style=\"text-align: right;\">\n",
       "      <th></th>\n",
       "      <th>Date</th>\n",
       "      <th>RadioFlux</th>\n",
       "    </tr>\n",
       "  </thead>\n",
       "  <tbody>\n",
       "    <tr>\n",
       "      <th>3333</th>\n",
       "      <td>2023-02-17</td>\n",
       "      <td>343.0</td>\n",
       "    </tr>\n",
       "  </tbody>\n",
       "</table>\n",
       "</div>"
      ],
      "text/plain": [
       "            Date  RadioFlux\n",
       "3333  2023-02-17      343.0"
      ]
     },
     "metadata": {},
     "output_type": "display_data"
    },
    {
     "data": {
      "text/html": [
       "<div>\n",
       "<style scoped>\n",
       "    .dataframe tbody tr th:only-of-type {\n",
       "        vertical-align: middle;\n",
       "    }\n",
       "\n",
       "    .dataframe tbody tr th {\n",
       "        vertical-align: top;\n",
       "    }\n",
       "\n",
       "    .dataframe thead th {\n",
       "        text-align: right;\n",
       "    }\n",
       "</style>\n",
       "<table border=\"1\" class=\"dataframe\">\n",
       "  <thead>\n",
       "    <tr style=\"text-align: right;\">\n",
       "      <th></th>\n",
       "      <th>Date</th>\n",
       "      <th>RadioFlux</th>\n",
       "    </tr>\n",
       "  </thead>\n",
       "  <tbody>\n",
       "    <tr>\n",
       "      <th>3271</th>\n",
       "      <td>2022-12-16</td>\n",
       "      <td>-1.0</td>\n",
       "    </tr>\n",
       "  </tbody>\n",
       "</table>\n",
       "</div>"
      ],
      "text/plain": [
       "            Date  RadioFlux\n",
       "3271  2022-12-16       -1.0"
      ]
     },
     "metadata": {},
     "output_type": "display_data"
    }
   ],
   "source": [
    "max_flux = df_all['RadioFlux'].max()\n",
    "max_days = df_all[df_all['RadioFlux'] == max_flux][['Date', 'RadioFlux']]\n",
    "\n",
    "min_flux = df_all['RadioFlux'].min()\n",
    "min_days = df_all[df_all['RadioFlux'] == min_flux][['Date', 'RadioFlux']]\n",
    "\n",
    "display(max_days)\n",
    "display(min_days)"
   ]
  },
  {
   "cell_type": "markdown",
   "metadata": {},
   "source": [
    "2023-02-17 had the highest value for the radio flux，2022-12-16 had the lowest value for the radio flux."
   ]
  },
  {
   "cell_type": "markdown",
   "metadata": {},
   "source": [
    "### Question2D"
   ]
  },
  {
   "cell_type": "code",
   "execution_count": 27,
   "metadata": {},
   "outputs": [
    {
     "name": "stdout",
     "output_type": "stream",
     "text": [
      "Day(s) with highest solar flares:\n"
     ]
    },
    {
     "data": {
      "text/html": [
       "<div>\n",
       "<style scoped>\n",
       "    .dataframe tbody tr th:only-of-type {\n",
       "        vertical-align: middle;\n",
       "    }\n",
       "\n",
       "    .dataframe tbody tr th {\n",
       "        vertical-align: top;\n",
       "    }\n",
       "\n",
       "    .dataframe thead th {\n",
       "        text-align: right;\n",
       "    }\n",
       "</style>\n",
       "<table border=\"1\" class=\"dataframe\">\n",
       "  <thead>\n",
       "    <tr style=\"text-align: right;\">\n",
       "      <th></th>\n",
       "      <th>Date</th>\n",
       "      <th>TotalFlares</th>\n",
       "    </tr>\n",
       "  </thead>\n",
       "  <tbody>\n",
       "    <tr>\n",
       "      <th>3327</th>\n",
       "      <td>2023-02-11</td>\n",
       "      <td>60.0</td>\n",
       "    </tr>\n",
       "  </tbody>\n",
       "</table>\n",
       "</div>"
      ],
      "text/plain": [
       "            Date  TotalFlares\n",
       "3327  2023-02-11         60.0"
      ]
     },
     "metadata": {},
     "output_type": "display_data"
    },
    {
     "name": "stdout",
     "output_type": "stream",
     "text": [
      " Number of days with no solar flares: 1823\n"
     ]
    }
   ],
   "source": [
    "df_all['TotalFlares'] = df_all[['Optical_S', 'Optical_1', 'Optical_2', 'Optical_3']].sum(axis=1)\n",
    "\n",
    "max_flare_value = df_all['TotalFlares'].max()\n",
    "max_flare_days = df_all[df_all['TotalFlares'] == max_flare_value][['Date', 'TotalFlares']]\n",
    "\n",
    "no_flare_days_count = (df_all['TotalFlares'] == 0).sum()\n",
    "\n",
    "print(\"Day(s) with highest solar flares:\")\n",
    "display(max_flare_days)\n",
    "\n",
    "print(f\" Number of days with no solar flares: {no_flare_days_count}\")\n"
   ]
  },
  {
   "cell_type": "markdown",
   "metadata": {},
   "source": [
    "Day(s) with the highest number of solar flares:\n",
    "2023-02-11 had the highest number of solar flares, with a total of 60 flares observed.\n",
    "Number of days with no solar flares:\n",
    "There were 1,823 days with zero solar flares recorded."
   ]
  },
  {
   "cell_type": "markdown",
   "metadata": {},
   "source": [
    "### Question 2E"
   ]
  },
  {
   "cell_type": "code",
   "execution_count": 29,
   "metadata": {},
   "outputs": [
    {
     "data": {
      "image/png": "[encoded data removed]",
      "text/plain": [
       "<Figure size 1200x600 with 1 Axes>"
      ]
     },
     "metadata": {},
     "output_type": "display_data"
    }
   ],
   "source": [
    "import seaborn as sns\n",
    "import matplotlib.pyplot as plt\n",
    "\n",
    "df_all['Date'] = pd.to_datetime(df_all['Date'])\n",
    "\n",
    "df_all['Year'] = df_all['Date'].dt.year\n",
    "\n",
    "plt.figure(figsize=(12, 6))\n",
    "sns.boxplot(x='Year', y='RadioFlux', data=df_all)\n",
    "\n",
    "plt.title('Radio Flux Distribution by Year')\n",
    "plt.xlabel('Year')\n",
    "plt.ylabel('Solar Radio Flux')\n",
    "plt.xticks(rotation=45)\n",
    "plt.tight_layout()\n",
    "plt.show()\n"
   ]
  },
  {
   "cell_type": "markdown",
   "metadata": {},
   "source": [
    "### Question2F"
   ]
  },
  {
   "cell_type": "code",
   "execution_count": 30,
   "metadata": {},
   "outputs": [
    {
     "name": "stdout",
     "output_type": "stream",
     "text": [
      "Training set size: 2920\n",
      "Testing set size: 730\n"
     ]
    }
   ],
   "source": [
    "from sklearn.model_selection import train_test_split\n",
    "\n",
    "train_df, test_df = train_test_split(df_all, test_size=0.2, random_state=42)\n",
    "\n",
    "print(f\"Training set size: {len(train_df)}\")\n",
    "print(f\"Testing set size: {len(test_df)}\")\n"
   ]
  },
  {
   "cell_type": "markdown",
   "metadata": {},
   "source": [
    "### Question2G and H"
   ]
  },
  {
   "cell_type": "code",
   "execution_count": 36,
   "metadata": {
    "scrolled": true
   },
   "outputs": [
    {
     "name": "stdout",
     "output_type": "stream",
     "text": [
      "Mean Squared Error: 173.82\n",
      "R-squared: 0.8644\n"
     ]
    }
   ],
   "source": [
    "from sklearn.linear_model import LinearRegression\n",
    "from sklearn.metrics import mean_squared_error, r2_score\n",
    "\n",
    "features = ['SunspotNumber', 'Xray_C', 'Xray_M', 'Xray_X',\n",
    "            'Optical_S', 'Optical_1', 'Optical_2', 'Optical_3']\n",
    "target = 'RadioFlux'\n",
    "\n",
    "train_clean = train_df.dropna(subset=features + [target])\n",
    "test_clean = test_df.dropna(subset=features + [target])\n",
    "\n",
    "X_train = train_clean[features]\n",
    "y_train = train_clean[target]\n",
    "X_test = test_clean[features]\n",
    "y_test = test_clean[target]\n",
    "\n",
    "model = LinearRegression()\n",
    "model.fit(X_train, y_train)\n",
    "\n",
    "y_pred = model.predict(X_test)\n",
    "\n",
    "mse = mean_squared_error(y_test, y_pred)\n",
    "r2 = r2_score(y_test, y_pred)\n",
    "\n",
    "print(\"Mean Squared Error:\", round(mse, 2))\n",
    "print(\"R-squared:\", round(r2, 4))"
   ]
  },
  {
   "cell_type": "markdown",
   "metadata": {},
   "source": [
    "The model predicts the solar radio flux quite well, with an R² score of approximately 0.86, indicating that about 86% of the variability in solar radio flux can be explained by sunspot number and solar flare activity.\n",
    "The accuracy is good because solar activity indicators like sunspots and flares have a strong correlation with radio flux. However, the prediction is not perfect due to possible noise in the data or other influencing factors not included in the model."
   ]
  },
  {
   "cell_type": "markdown",
   "metadata": {},
   "source": [
    "### Question2I"
   ]
  },
  {
   "cell_type": "code",
   "execution_count": 37,
   "metadata": {},
   "outputs": [
    {
     "name": "stdout",
     "output_type": "stream",
     "text": [
      "Predicted Solar Radio Flux: 122.72\n"
     ]
    }
   ],
   "source": [
    "import pandas as pd\n",
    "\n",
    "input_data = pd.DataFrame([{\n",
    "    'SunspotNumber': 96,\n",
    "    'Xray_C': 1,\n",
    "    'Xray_M': 0,\n",
    "    'Xray_X': 0,\n",
    "    'Optical_S': 0,\n",
    "    'Optical_1': 0,\n",
    "    'Optical_2': 0,\n",
    "    'Optical_3': 0\n",
    "}])\n",
    "\n",
    "predicted_flux = model.predict(input_data)[0]\n",
    "print(f\"Predicted Solar Radio Flux: {predicted_flux:.2f}\")\n"
   ]
  },
  {
   "cell_type": "markdown",
   "metadata": {},
   "source": [
    "The predicted solar radio flux for a day with 96 sunspots and a single C-class X-ray flare is approximately 122.72.\n",
    "\n",
    "We are reasonably confident in this prediction because the model achieves a high R² score of approximately 0.86. However, the prediction is not perfect due to noise in the data and other influencing factors not captured in the model."
   ]
  }
 ],
 "metadata": {
  "kernelspec": {
   "display_name": "Python 3 (anaconda3 2023.07-2)",
   "language": "python",
   "name": "anaconda3-2023.07-2"
  },
  "language_info": {
   "codemirror_mode": {
    "name": "ipython",
    "version": 3
   },
   "file_extension": ".py",
   "mimetype": "text/x-python",
   "name": "python",
   "nbconvert_exporter": "python",
   "pygments_lexer": "ipython3",
   "version": "3.11.4"
  }
 },
 "nbformat": 4,
 "nbformat_minor": 2
}
